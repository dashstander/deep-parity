{
 "cells": [
  {
   "cell_type": "code",
   "execution_count": 1,
   "id": "9df91ef0-f5d6-4988-9792-dbafff40c0fe",
   "metadata": {},
   "outputs": [],
   "source": [
    "import numpy as np\n",
    "import torch\n",
    "from deep_parity.boolean_cube import generate_all_binary_arrays, fourier_transform\n",
    "import polars as pl\n",
    "\n",
    "from plotnine import ggplot, aes, geom_line, geom_bar, geom_histogram, facet_wrap"
   ]
  },
  {
   "cell_type": "code",
   "execution_count": 2,
   "id": "48fb71fd-e3f0-487f-9469-a45ce8e16080",
   "metadata": {},
   "outputs": [],
   "source": [
    "n = 10\n",
    "all_zero_one = torch.from_numpy(generate_all_binary_arrays(n)).to(torch.float64)\n",
    "all_bn = torch.sign((-1 * all_zero_one) + 0.5)"
   ]
  },
  {
   "cell_type": "code",
   "execution_count": 3,
   "id": "54aedf48-043c-4e60-a120-d51a5f709b3e",
   "metadata": {},
   "outputs": [],
   "source": [
    "from torch.nn.functional import relu\n",
    "\n",
    "def _rlf(weights, vals):\n",
    "    return relu(weights @ vals.T)\n"
   ]
  },
  {
   "cell_type": "code",
   "execution_count": 4,
   "id": "0abc79db-62e3-402a-a2fc-9c50cedf6b2b",
   "metadata": {},
   "outputs": [],
   "source": [
    "rlf = torch.vmap(_rlf, in_dims=(0, None))"
   ]
  },
  {
   "cell_type": "code",
   "execution_count": 5,
   "id": "fc6807da-557f-437c-8e6b-ccebf45293a4",
   "metadata": {},
   "outputs": [],
   "source": [
    "weights = torch.from_numpy(generate_all_binary_arrays(n)).to(torch.float64)\n",
    "weights = torch.sign((-1 * weights) + 0.5)"
   ]
  },
  {
   "cell_type": "code",
   "execution_count": 6,
   "id": "0cb35dbb-b081-40dd-a59c-b23b948ec986",
   "metadata": {},
   "outputs": [],
   "source": [
    "rand_vals = rlf(weights, all_bn)"
   ]
  },
  {
   "cell_type": "code",
   "execution_count": 7,
   "id": "4ce4ee1a-fb2e-4711-a523-6515656ed17b",
   "metadata": {},
   "outputs": [],
   "source": [
    "ft = fourier_transform(rand_vals, n)"
   ]
  },
  {
   "cell_type": "code",
   "execution_count": 8,
   "id": "210843ed-3c67-4ff0-95db-dd24e1e37efa",
   "metadata": {},
   "outputs": [],
   "source": [
    "def make_base_parity_dataframe(n):\n",
    "    all_binary_data = generate_all_binary_arrays(n)\n",
    "    all_degrees = all_binary_data.sum(axis=1)\n",
    "    all_parities = all_degrees % 2\n",
    "    base_df = pl.DataFrame({\n",
    "        'bits': all_binary_data, \n",
    "        'parities': all_parities, \n",
    "        'degree': all_degrees\n",
    "    })\n",
    "    base_df = base_df.with_columns(\n",
    "        indices=pl.col('bits').arr.to_list().list.eval(pl.arg_where(pl.element() == 1))\n",
    "    )\n",
    "    return base_df\n",
    "\n",
    "\n",
    "def calc_power_contributions(tensor, n, epoch):\n",
    "    linear_dim = tensor.shape[1]\n",
    "    base_df = make_base_parity_dataframe(n)\n",
    "    ft = fourier_transform(tensor.T.to('cuda'))\n",
    "    ft /= ft.mean(dim=0, keepdims=True)\n",
    "    linear_df = pl.DataFrame(\n",
    "        ft.T.detach().cpu().numpy(),\n",
    "        schema=[str(i) for i in range(linear_dim)]\n",
    "    )\n",
    "    data = pl.concat([base_df, linear_df], how='horizontal')\n",
    "    total_power = (\n",
    "        data\n",
    "        .select(pl.exclude('bits', 'parities', 'indices', 'degree'))\n",
    "        .unpivot()\n",
    "        .with_columns(pl.col('variable').str.to_integer())\n",
    "        .group_by('variable').agg(pl.col('value').pow(2).sum())\n",
    "        .rename({'value': 'power'})\n",
    "    )\n",
    "    power_df = (\n",
    "        data\n",
    "        .select(pl.exclude('bits', 'parities', 'indices'))\n",
    "        .unpivot(index='degree')\n",
    "        .with_columns(pl.col('variable').str.to_integer())\n",
    "        .group_by('degree', 'variable').agg(pl.col('value').pow(2).sum())\n",
    "        .join(total_power, on='variable', how='left')\n",
    "        .with_columns(pcnt_power = pl.col('value') / pl.col('power'), epoch=pl.lit(epoch))\n",
    "    )\n",
    "    return power_df\n",
    "\n",
    "boolean_df = make_base_parity_dataframe(n)"
   ]
  },
  {
   "cell_type": "code",
   "execution_count": 12,
   "id": "a9bf3aae-a7c5-4eb6-8a2a-cf2ab0b208ec",
   "metadata": {},
   "outputs": [
    {
     "data": {
      "text/html": [
       "<div><style>\n",
       ".dataframe > thead > tr,\n",
       ".dataframe > tbody > tr {\n",
       "  text-align: right;\n",
       "  white-space: pre-wrap;\n",
       "}\n",
       "</style>\n",
       "<small>shape: (5, 6)</small><table border=\"1\" class=\"dataframe\"><thead><tr><th>bits</th><th>parities</th><th>degree</th><th>indices</th><th>variable</th><th>value</th></tr><tr><td>array[u8, 10]</td><td>u64</td><td>u64</td><td>list[u32]</td><td>i64</td><td>f64</td></tr></thead><tbody><tr><td>[0, 0, … 0]</td><td>0</td><td>0</td><td>[]</td><td>0</td><td>39.375</td></tr><tr><td>[0, 0, … 1]</td><td>1</td><td>1</td><td>[9]</td><td>0</td><td>16.0</td></tr><tr><td>[0, 0, … 0]</td><td>1</td><td>1</td><td>[8]</td><td>0</td><td>16.0</td></tr><tr><td>[0, 0, … 1]</td><td>0</td><td>2</td><td>[8, 9]</td><td>0</td><td>4.375</td></tr><tr><td>[0, 0, … 0]</td><td>1</td><td>1</td><td>[7]</td><td>0</td><td>16.0</td></tr></tbody></table></div>"
      ],
      "text/plain": [
       "shape: (5, 6)\n",
       "┌───────────────┬──────────┬────────┬───────────┬──────────┬────────┐\n",
       "│ bits          ┆ parities ┆ degree ┆ indices   ┆ variable ┆ value  │\n",
       "│ ---           ┆ ---      ┆ ---    ┆ ---       ┆ ---      ┆ ---    │\n",
       "│ array[u8, 10] ┆ u64      ┆ u64    ┆ list[u32] ┆ i64      ┆ f64    │\n",
       "╞═══════════════╪══════════╪════════╪═══════════╪══════════╪════════╡\n",
       "│ [0, 0, … 0]   ┆ 0        ┆ 0      ┆ []        ┆ 0        ┆ 39.375 │\n",
       "│ [0, 0, … 1]   ┆ 1        ┆ 1      ┆ [9]       ┆ 0        ┆ 16.0   │\n",
       "│ [0, 0, … 0]   ┆ 1        ┆ 1      ┆ [8]       ┆ 0        ┆ 16.0   │\n",
       "│ [0, 0, … 1]   ┆ 0        ┆ 2      ┆ [8, 9]    ┆ 0        ┆ 4.375  │\n",
       "│ [0, 0, … 0]   ┆ 1        ┆ 1      ┆ [7]       ┆ 0        ┆ 16.0   │\n",
       "└───────────────┴──────────┴────────┴───────────┴──────────┴────────┘"
      ]
     },
     "execution_count": 12,
     "metadata": {},
     "output_type": "execute_result"
    }
   ],
   "source": [
    "ft_df = pl.DataFrame({str(i): vals.squeeze().numpy() for i, vals in enumerate(ft.split(1))})\n",
    "data = (\n",
    "    pl.concat([boolean_df, ft_df], how='horizontal')\n",
    "    .unpivot(index=['bits', 'parities', 'degree', 'indices'])\n",
    "    .with_columns(pl.col('variable').str.to_integer())\n",
    ")\n",
    "data.head()"
   ]
  },
  {
   "cell_type": "code",
   "execution_count": 22,
   "id": "a3790965-fab5-427b-9622-fee2f6f17002",
   "metadata": {},
   "outputs": [
    {
     "data": {
      "image/png": "[encoded data removed]"
     },
     "metadata": {
      "image/png": {
       "height": 480,
       "width": 640
      }
     },
     "output_type": "display_data"
    }
   ],
   "source": [
    "ggplot(data.filter(pl.col('degree').eq(1)), aes(x='value', fill='factor(degree)')) + geom_histogram(binwidth=0.2) + facet_wrap('~degree')"
   ]
  },
  {
   "cell_type": "code",
   "execution_count": 193,
   "id": "bc3739c6-97e0-4d82-a341-52caf5b78e83",
   "metadata": {},
   "outputs": [
    {
     "data": {
      "text/html": [
       "<div><style>\n",
       ".dataframe > thead > tr,\n",
       ".dataframe > tbody > tr {\n",
       "  text-align: right;\n",
       "  white-space: pre-wrap;\n",
       "}\n",
       "</style>\n",
       "<small>shape: (991, 6)</small><table border=\"1\" class=\"dataframe\"><thead><tr><th>bits</th><th>parities</th><th>degree</th><th>indices</th><th>variable</th><th>value</th></tr><tr><td>array[u8, 12]</td><td>u64</td><td>u64</td><td>list[u32]</td><td>i64</td><td>f64</td></tr></thead><tbody><tr><td>[0, 0, … 0]</td><td>0</td><td>0</td><td>[]</td><td>15</td><td>-0.875</td></tr><tr><td>[0, 0, … 0]</td><td>0</td><td>0</td><td>[]</td><td>23</td><td>-0.875</td></tr><tr><td>[0, 0, … 0]</td><td>0</td><td>0</td><td>[]</td><td>27</td><td>-0.875</td></tr><tr><td>[0, 0, … 0]</td><td>0</td><td>0</td><td>[]</td><td>29</td><td>-0.875</td></tr><tr><td>[0, 0, … 0]</td><td>0</td><td>0</td><td>[]</td><td>30</td><td>-0.875</td></tr><tr><td>&hellip;</td><td>&hellip;</td><td>&hellip;</td><td>&hellip;</td><td>&hellip;</td><td>&hellip;</td></tr><tr><td>[0, 0, … 0]</td><td>0</td><td>0</td><td>[]</td><td>4066</td><td>-0.375</td></tr><tr><td>[0, 0, … 0]</td><td>0</td><td>0</td><td>[]</td><td>4068</td><td>-0.375</td></tr><tr><td>[0, 0, … 0]</td><td>0</td><td>0</td><td>[]</td><td>4072</td><td>-0.375</td></tr><tr><td>[0, 0, … 0]</td><td>0</td><td>0</td><td>[]</td><td>4080</td><td>-0.375</td></tr><tr><td>[0, 0, … 0]</td><td>0</td><td>0</td><td>[]</td><td>4095</td><td>-7.875</td></tr></tbody></table></div>"
      ],
      "text/plain": [
       "shape: (991, 6)\n",
       "┌───────────────┬──────────┬────────┬───────────┬──────────┬────────┐\n",
       "│ bits          ┆ parities ┆ degree ┆ indices   ┆ variable ┆ value  │\n",
       "│ ---           ┆ ---      ┆ ---    ┆ ---       ┆ ---      ┆ ---    │\n",
       "│ array[u8, 12] ┆ u64      ┆ u64    ┆ list[u32] ┆ i64      ┆ f64    │\n",
       "╞═══════════════╪══════════╪════════╪═══════════╪══════════╪════════╡\n",
       "│ [0, 0, … 0]   ┆ 0        ┆ 0      ┆ []        ┆ 15       ┆ -0.875 │\n",
       "│ [0, 0, … 0]   ┆ 0        ┆ 0      ┆ []        ┆ 23       ┆ -0.875 │\n",
       "│ [0, 0, … 0]   ┆ 0        ┆ 0      ┆ []        ┆ 27       ┆ -0.875 │\n",
       "│ [0, 0, … 0]   ┆ 0        ┆ 0      ┆ []        ┆ 29       ┆ -0.875 │\n",
       "│ [0, 0, … 0]   ┆ 0        ┆ 0      ┆ []        ┆ 30       ┆ -0.875 │\n",
       "│ …             ┆ …        ┆ …      ┆ …         ┆ …        ┆ …      │\n",
       "│ [0, 0, … 0]   ┆ 0        ┆ 0      ┆ []        ┆ 4066     ┆ -0.375 │\n",
       "│ [0, 0, … 0]   ┆ 0        ┆ 0      ┆ []        ┆ 4068     ┆ -0.375 │\n",
       "│ [0, 0, … 0]   ┆ 0        ┆ 0      ┆ []        ┆ 4072     ┆ -0.375 │\n",
       "│ [0, 0, … 0]   ┆ 0        ┆ 0      ┆ []        ┆ 4080     ┆ -0.375 │\n",
       "│ [0, 0, … 0]   ┆ 0        ┆ 0      ┆ []        ┆ 4095     ┆ -7.875 │\n",
       "└───────────────┴──────────┴────────┴───────────┴──────────┴────────┘"
      ]
     },
     "execution_count": 193,
     "metadata": {},
     "output_type": "execute_result"
    }
   ],
   "source": [
    "data.filter(pl.col('degree').eq(0) & pl.col('value').lt(0))"
   ]
  },
  {
   "cell_type": "code",
   "execution_count": 25,
   "id": "38056556-d322-40a3-9a86-4c84770a130a",
   "metadata": {},
   "outputs": [
    {
     "data": {
      "text/plain": [
       "46080"
      ]
     },
     "execution_count": 25,
     "metadata": {},
     "output_type": "execute_result"
    }
   ],
   "source": [
    "2 ** 6 * 720"
   ]
  },
  {
   "cell_type": "code",
   "execution_count": null,
   "id": "67992121-dd34-41b3-9508-88c5022d5c30",
   "metadata": {},
   "outputs": [],
   "source": []
  }
 ],
 "metadata": {
  "kernelspec": {
   "display_name": "Python 3 (ipykernel)",
   "language": "python",
   "name": "python3"
  },
  "language_info": {
   "codemirror_mode": {
    "name": "ipython",
    "version": 3
   },
   "file_extension": ".py",
   "mimetype": "text/x-python",
   "name": "python",
   "nbconvert_exporter": "python",
   "pygments_lexer": "ipython3",
   "version": "3.11.7"
  }
 },
 "nbformat": 4,
 "nbformat_minor": 5
}
